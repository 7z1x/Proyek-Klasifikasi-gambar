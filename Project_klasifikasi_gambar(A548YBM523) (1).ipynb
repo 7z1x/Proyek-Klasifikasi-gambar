{
  "metadata": {
    "kernelspec": {
      "language": "python",
      "display_name": "Python 3",
      "name": "python3"
    },
    "language_info": {
      "name": "python",
      "version": "3.11.11",
      "mimetype": "text/x-python",
      "codemirror_mode": {
        "name": "ipython",
        "version": 3
      },
      "pygments_lexer": "ipython3",
      "nbconvert_exporter": "python",
      "file_extension": ".py"
    },
    "kaggle": {
      "accelerator": "gpu",
      "dataSources": [
        {
          "sourceId": 11525839,
          "sourceType": "datasetVersion",
          "datasetId": 7228587
        }
      ],
      "dockerImageVersionId": 31011,
      "isInternetEnabled": true,
      "language": "python",
      "sourceType": "notebook",
      "isGpuEnabled": true
    },
    "colab": {
      "name": "Project_klasifikasi_gambar(A548YBM523)",
      "provenance": []
    }
  },
  "nbformat_minor": 0,
  "nbformat": 4,
  "cells": [
    {
      "cell_type": "code",
      "source": [
        "!pip install tensorflowjs"
      ],
      "metadata": {
        "trusted": true,
        "execution": {
          "iopub.status.busy": "2025-04-23T04:33:43.33915Z",
          "iopub.execute_input": "2025-04-23T04:33:43.33945Z",
          "iopub.status.idle": "2025-04-23T04:33:47.888953Z",
          "shell.execute_reply.started": "2025-04-23T04:33:43.339429Z",
          "shell.execute_reply": "2025-04-23T04:33:47.887971Z"
        },
        "id": "X1oSy5DnkCEv"
      },
      "outputs": [],
      "execution_count": null
    },
    {
      "cell_type": "code",
      "source": [
        "import os\n",
        "import shutil\n",
        "import random\n",
        "import numpy as np\n",
        "import pandas as pd\n",
        "import matplotlib.pyplot as plt\n",
        "import seaborn as sns\n",
        "import tensorflow as tf\n",
        "from tensorflow.keras import layers, models\n",
        "from tensorflow.keras.preprocessing.image import ImageDataGenerator\n",
        "from tensorflow.keras.callbacks import EarlyStopping, ReduceLROnPlateau, ModelCheckpoint\n",
        "from sklearn.metrics import confusion_matrix, classification_report\n",
        "from sklearn.model_selection import train_test_split\n",
        "from kaggle_secrets import UserSecretsClient\n",
        "import tensorflowjs as tfjs"
      ],
      "metadata": {
        "_uuid": "8f2839f25d086af736a60e9eeb907d3b93b6e0e5",
        "_cell_guid": "b1076dfc-b9ad-4769-8c92-a6c4dae69d19",
        "trusted": true,
        "execution": {
          "iopub.status.busy": "2025-04-23T04:33:55.982105Z",
          "iopub.execute_input": "2025-04-23T04:33:55.982428Z",
          "iopub.status.idle": "2025-04-23T04:33:58.006038Z",
          "shell.execute_reply.started": "2025-04-23T04:33:55.982402Z",
          "shell.execute_reply": "2025-04-23T04:33:58.005515Z"
        },
        "id": "Wu6Dd-oakCEw"
      },
      "outputs": [],
      "execution_count": null
    },
    {
      "cell_type": "code",
      "source": [
        "# 1. Persiapkan Dataset\n",
        "from kaggle_secrets import UserSecretsClient\n",
        "# Pengaturan Kaggle\n",
        "user_secrets = UserSecretsClient()\n",
        "KAGGLE_KEY = user_secrets.get_secret(\"KAGGLE_KEY\")\n",
        "KAGGLE_USERNAME = user_secrets.get_secret(\"KAGGLE_USERNAME\")\n",
        "os.environ[\"KAGGLE_USERNAME\"] = KAGGLE_USERNAME\n",
        "os.environ[\"KAGGLE_KEY\"] = KAGGLE_KEY"
      ],
      "metadata": {
        "trusted": true,
        "execution": {
          "iopub.status.busy": "2025-04-23T04:37:25.208672Z",
          "iopub.execute_input": "2025-04-23T04:37:25.208915Z",
          "iopub.status.idle": "2025-04-23T04:37:25.597253Z",
          "shell.execute_reply.started": "2025-04-23T04:37:25.208898Z",
          "shell.execute_reply": "2025-04-23T04:37:25.596338Z"
        },
        "id": "nx5hgUn9kCEx"
      },
      "outputs": [],
      "execution_count": null
    },
    {
      "cell_type": "code",
      "source": [
        "# Unduh dan ekstrak dataset\n",
        "!kaggle datasets download -d andrewmvd/animal-faces\n",
        "!unzip -o -q animal-faces.zip\n"
      ],
      "metadata": {
        "trusted": true,
        "execution": {
          "iopub.status.busy": "2025-04-23T04:37:28.365032Z",
          "iopub.execute_input": "2025-04-23T04:37:28.365591Z",
          "iopub.status.idle": "2025-04-23T04:37:40.672835Z",
          "shell.execute_reply.started": "2025-04-23T04:37:28.365569Z",
          "shell.execute_reply": "2025-04-23T04:37:40.671775Z"
        },
        "id": "2iT1vrlzkCEx"
      },
      "outputs": [],
      "execution_count": null
    },
    {
      "cell_type": "code",
      "source": [
        "# Gabungkan dataset train dan val\n",
        "train_dir = \"afhq/train\"\n",
        "val_dir = \"afhq/val\"\n",
        "combined_dir = \"animal/dataset\"\n",
        "os.makedirs(combined_dir, exist_ok=True)"
      ],
      "metadata": {
        "trusted": true,
        "execution": {
          "iopub.status.busy": "2025-04-23T04:38:29.883674Z",
          "iopub.execute_input": "2025-04-23T04:38:29.884286Z",
          "iopub.status.idle": "2025-04-23T04:38:29.889028Z",
          "shell.execute_reply.started": "2025-04-23T04:38:29.884253Z",
          "shell.execute_reply": "2025-04-23T04:38:29.888258Z"
        },
        "id": "wwnA2aOMkCEy"
      },
      "outputs": [],
      "execution_count": null
    },
    {
      "cell_type": "code",
      "source": [
        "for category in os.listdir(train_dir):\n",
        "    category_dir = os.path.join(train_dir, category)\n",
        "    if os.path.isdir(category_dir):\n",
        "        shutil.copytree(category_dir, os.path.join(combined_dir, category), dirs_exist_ok=True)\n",
        "\n",
        "for category in os.listdir(val_dir):\n",
        "    category_dir = os.path.join(val_dir, category)\n",
        "    if os.path.isdir(category_dir):\n",
        "        shutil.copytree(category_dir, os.path.join(combined_dir, category), dirs_exist_ok=True)"
      ],
      "metadata": {
        "trusted": true,
        "execution": {
          "iopub.status.busy": "2025-04-23T04:38:31.641923Z",
          "iopub.execute_input": "2025-04-23T04:38:31.642232Z",
          "iopub.status.idle": "2025-04-23T04:38:33.666979Z",
          "shell.execute_reply.started": "2025-04-23T04:38:31.64221Z",
          "shell.execute_reply": "2025-04-23T04:38:33.666435Z"
        },
        "id": "T7QPO8qYkCEy"
      },
      "outputs": [],
      "execution_count": null
    },
    {
      "cell_type": "code",
      "source": [
        "# Visualisasi data\n",
        "animal_image = {}\n",
        "path_sub = os.path.join(\"animal\", \"dataset\")\n",
        "for category in os.listdir(path_sub):\n",
        "    category_path = os.path.join(path_sub, category)\n",
        "    if os.path.isdir(category_path):\n",
        "        animal_image[category] = os.listdir(category_path)\n",
        "\n",
        "fig, axs = plt.subplots(len(animal_image.keys()), 5, figsize=(15, 10))\n",
        "for i, class_name in enumerate(animal_image.keys()):\n",
        "    images = np.random.choice(animal_image[class_name], 5, replace=False)\n",
        "    for j, image_name in enumerate(images):\n",
        "        img_path = os.path.join(path_sub, class_name, image_name)\n",
        "        img = plt.imread(img_path)\n",
        "        axs[i, j].imshow(img)\n",
        "        axs[i, j].set(xlabel=class_name, xticks=[], yticks=[])\n",
        "        axs[i, j].xaxis.set_label_position('top')\n",
        "fig.tight_layout()\n",
        "plt.show()\n"
      ],
      "metadata": {
        "trusted": true,
        "execution": {
          "iopub.status.busy": "2025-04-23T04:39:32.778624Z",
          "iopub.execute_input": "2025-04-23T04:39:32.779378Z",
          "iopub.status.idle": "2025-04-23T04:39:34.420411Z",
          "shell.execute_reply.started": "2025-04-23T04:39:32.779354Z",
          "shell.execute_reply": "2025-04-23T04:39:34.419636Z"
        },
        "id": "AUjIXVRxkCEy"
      },
      "outputs": [],
      "execution_count": null
    },
    {
      "cell_type": "code",
      "source": [
        "# Distribusi kelas\n",
        "animal_path = \"animal/dataset\"\n",
        "file_name = []\n",
        "labels = []\n",
        "full_path = []\n",
        "\n",
        "for path, subdirs, files in os.walk(animal_path):\n",
        "    for name in files:\n",
        "        full_path.append(os.path.join(path, name))\n",
        "        labels.append(os.path.basename(path))\n",
        "        file_name.append(name)\n",
        "\n",
        "distribution_train = pd.DataFrame({\"path\": full_path, \"file_name\": file_name, \"labels\": labels})\n",
        "\n",
        "plt.figure(figsize=(8, 6))\n",
        "sns.countplot(x=distribution_train[\"labels\"])\n",
        "plt.title(\"Distribusi Gambar per Kelas\")\n",
        "plt.xlabel(\"Kelas\")\n",
        "plt.ylabel(\"Jumlah Gambar\")\n",
        "plt.xticks(rotation=45)\n",
        "plt.show()"
      ],
      "metadata": {
        "trusted": true,
        "execution": {
          "iopub.status.busy": "2025-04-23T04:39:41.272854Z",
          "iopub.execute_input": "2025-04-23T04:39:41.273381Z",
          "iopub.status.idle": "2025-04-23T04:39:41.497762Z",
          "shell.execute_reply.started": "2025-04-23T04:39:41.273357Z",
          "shell.execute_reply": "2025-04-23T04:39:41.496991Z"
        },
        "id": "5dtvpqQhkCEz"
      },
      "outputs": [],
      "execution_count": null
    },
    {
      "cell_type": "code",
      "source": [
        "IMG_SIZE = (224, 224)\n",
        "BATCH_SIZE = 32\n",
        "NUM_CLASSES = len(os.listdir(animal_path))"
      ],
      "metadata": {
        "trusted": true,
        "execution": {
          "iopub.status.busy": "2025-04-23T04:39:51.473549Z",
          "iopub.execute_input": "2025-04-23T04:39:51.474313Z",
          "iopub.status.idle": "2025-04-23T04:39:51.477959Z",
          "shell.execute_reply.started": "2025-04-23T04:39:51.474288Z",
          "shell.execute_reply": "2025-04-23T04:39:51.477351Z"
        },
        "id": "jy0-ka4wkCEz"
      },
      "outputs": [],
      "execution_count": null
    },
    {
      "cell_type": "code",
      "source": [
        "df = distribution_train[[\"path\", \"labels\"]]\n",
        "train_df, temp_df = train_test_split(df, test_size=0.3, stratify=df[\"labels\"], random_state=123)\n",
        "val_df, test_df = train_test_split(temp_df, test_size=0.5, stratify=temp_df[\"labels\"], random_state=123)"
      ],
      "metadata": {
        "trusted": true,
        "execution": {
          "iopub.status.busy": "2025-04-23T04:41:02.017559Z",
          "iopub.execute_input": "2025-04-23T04:41:02.017795Z",
          "iopub.status.idle": "2025-04-23T04:41:02.04379Z",
          "shell.execute_reply.started": "2025-04-23T04:41:02.01778Z",
          "shell.execute_reply": "2025-04-23T04:41:02.042915Z"
        },
        "id": "3Jb5sJuRkCEz"
      },
      "outputs": [],
      "execution_count": null
    },
    {
      "cell_type": "code",
      "source": [
        "# ImageDataGenerator untuk augmentasi\n",
        "train_datagen = ImageDataGenerator(\n",
        "    rescale=1./255,\n",
        "    rotation_range=40,\n",
        "    width_shift_range=0.2,\n",
        "    height_shift_range=0.2,\n",
        "    shear_range=0.2,\n",
        "    zoom_range=0.2,\n",
        "    horizontal_flip=True,\n",
        "    brightness_range=[0.8, 1.2],\n",
        "    fill_mode='nearest'\n",
        ")\n",
        "\n",
        "val_test_datagen = ImageDataGenerator(rescale=1./255)\n",
        "\n",
        "train_generator = train_datagen.flow_from_dataframe(\n",
        "    train_df,\n",
        "    x_col=\"path\",\n",
        "    y_col=\"labels\",\n",
        "    target_size=IMG_SIZE,\n",
        "    batch_size=BATCH_SIZE,\n",
        "    class_mode='categorical',\n",
        "    shuffle=True\n",
        ")\n",
        "\n",
        "val_generator = val_test_datagen.flow_from_dataframe(\n",
        "    val_df,\n",
        "    x_col=\"path\",\n",
        "    y_col=\"labels\",\n",
        "    target_size=IMG_SIZE,\n",
        "    batch_size=BATCH_SIZE,\n",
        "    class_mode='categorical',\n",
        "    shuffle=False\n",
        ")\n",
        "\n",
        "test_generator = val_test_datagen.flow_from_dataframe(\n",
        "    test_df,\n",
        "    x_col=\"path\",\n",
        "    y_col=\"labels\",\n",
        "    target_size=IMG_SIZE,\n",
        "    batch_size=BATCH_SIZE,\n",
        "    class_mode='categorical',\n",
        "    shuffle=False\n",
        ")"
      ],
      "metadata": {
        "trusted": true,
        "execution": {
          "iopub.status.busy": "2025-04-23T04:41:04.577918Z",
          "iopub.execute_input": "2025-04-23T04:41:04.578625Z",
          "iopub.status.idle": "2025-04-23T04:41:04.698002Z",
          "shell.execute_reply.started": "2025-04-23T04:41:04.578605Z",
          "shell.execute_reply": "2025-04-23T04:41:04.697273Z"
        },
        "id": "pfswG6eOkCE0"
      },
      "outputs": [],
      "execution_count": null
    },
    {
      "cell_type": "code",
      "source": [
        "# 2. Bangun Model Sequential dengan Conv2D dan MaxPooling2D\n",
        "model = models.Sequential([\n",
        "    layers.Conv2D(32, (3, 3), padding='same', activation='relu', input_shape=(224, 224, 3)),\n",
        "    layers.BatchNormalization(),\n",
        "    layers.MaxPooling2D((2, 2)),\n",
        "\n",
        "    layers.Conv2D(64, (3, 3), padding='same', activation='relu'),\n",
        "    layers.BatchNormalization(),\n",
        "    layers.MaxPooling2D((2, 2)),\n",
        "\n",
        "    layers.Conv2D(128, (3, 3), padding='same', activation='relu'),\n",
        "    layers.BatchNormalization(),\n",
        "    layers.MaxPooling2D((2, 2)),\n",
        "\n",
        "    layers.Conv2D(256, (3, 3), padding='same', activation='relu'),\n",
        "    layers.BatchNormalization(),\n",
        "    layers.MaxPooling2D((2, 2)),\n",
        "\n",
        "    layers.Flatten(),\n",
        "    layers.Dense(512, activation='relu'),\n",
        "    layers.Dropout(0.5),\n",
        "    layers.Dense(NUM_CLASSES, activation='softmax')\n",
        "])"
      ],
      "metadata": {
        "trusted": true,
        "execution": {
          "iopub.status.busy": "2025-04-23T04:41:16.392942Z",
          "iopub.execute_input": "2025-04-23T04:41:16.393643Z",
          "iopub.status.idle": "2025-04-23T04:41:18.776675Z",
          "shell.execute_reply.started": "2025-04-23T04:41:16.393619Z",
          "shell.execute_reply": "2025-04-23T04:41:18.776131Z"
        },
        "id": "e-IZ8g8DkCE0"
      },
      "outputs": [],
      "execution_count": null
    },
    {
      "cell_type": "code",
      "source": [
        "# Kompilasi model\n",
        "model.compile(\n",
        "    optimizer=tf.keras.optimizers.Adam(learning_rate=0.001),\n",
        "    loss='categorical_crossentropy',\n",
        "    metrics=['accuracy']\n",
        ")"
      ],
      "metadata": {
        "trusted": true,
        "execution": {
          "iopub.status.busy": "2025-04-23T04:41:29.284718Z",
          "iopub.execute_input": "2025-04-23T04:41:29.285322Z",
          "iopub.status.idle": "2025-04-23T04:41:29.298301Z",
          "shell.execute_reply.started": "2025-04-23T04:41:29.2853Z",
          "shell.execute_reply": "2025-04-23T04:41:29.29769Z"
        },
        "id": "DvPkwotJkCE0"
      },
      "outputs": [],
      "execution_count": null
    },
    {
      "cell_type": "code",
      "source": [
        "# 3. Latih Model dengan Callback\n",
        "callbacks = [\n",
        "    EarlyStopping(patience=5, restore_best_weights=True),\n",
        "    ReduceLROnPlateau(factor=0.2, patience=3),\n",
        "    ModelCheckpoint('best_model.keras', save_best_only=True, monitor='val_accuracy')\n",
        "]"
      ],
      "metadata": {
        "trusted": true,
        "execution": {
          "iopub.status.busy": "2025-04-23T04:41:32.429165Z",
          "iopub.execute_input": "2025-04-23T04:41:32.429414Z",
          "iopub.status.idle": "2025-04-23T04:41:32.433241Z",
          "shell.execute_reply.started": "2025-04-23T04:41:32.429397Z",
          "shell.execute_reply": "2025-04-23T04:41:32.432584Z"
        },
        "id": "jAPTuYHIkCE0"
      },
      "outputs": [],
      "execution_count": null
    },
    {
      "cell_type": "code",
      "source": [
        "history = model.fit(\n",
        "    train_generator,\n",
        "    epochs=50,\n",
        "    validation_data=val_generator,\n",
        "    callbacks=callbacks\n",
        ")"
      ],
      "metadata": {
        "trusted": true,
        "execution": {
          "iopub.status.busy": "2025-04-23T04:42:22.627816Z",
          "iopub.execute_input": "2025-04-23T04:42:22.628438Z",
          "iopub.status.idle": "2025-04-23T06:28:09.076685Z",
          "shell.execute_reply.started": "2025-04-23T04:42:22.628413Z",
          "shell.execute_reply": "2025-04-23T06:28:09.076026Z"
        },
        "id": "NlyvIj90kCE1"
      },
      "outputs": [],
      "execution_count": null
    },
    {
      "cell_type": "code",
      "source": [
        "# 4. Evaluasi Model\n",
        "test_loss, test_accuracy = model.evaluate(test_generator)\n",
        "print(f\"Akurasi Test: {test_accuracy*100:.2f}%\")"
      ],
      "metadata": {
        "trusted": true,
        "execution": {
          "iopub.status.busy": "2025-04-23T06:28:09.0778Z",
          "iopub.execute_input": "2025-04-23T06:28:09.078015Z",
          "iopub.status.idle": "2025-04-23T06:28:15.524123Z",
          "shell.execute_reply.started": "2025-04-23T06:28:09.077999Z",
          "shell.execute_reply": "2025-04-23T06:28:15.523394Z"
        },
        "id": "GC2UiFTbkCE1"
      },
      "outputs": [],
      "execution_count": null
    },
    {
      "cell_type": "code",
      "source": [
        "# Confusion matrix dan classification report\n",
        "y_true = test_generator.classes\n",
        "y_pred = np.argmax(model.predict(test_generator), axis=1)\n",
        "\n",
        "cm = confusion_matrix(y_true, y_pred)\n",
        "plt.figure(figsize=(8, 6))\n",
        "sns.heatmap(cm, annot=True, fmt='d', cmap='Blues', xticklabels=test_generator.class_indices.keys(), yticklabels=test_generator.class_indices.keys())\n",
        "plt.title('Confusion Matrix')\n",
        "plt.xlabel('Prediksi')\n",
        "plt.ylabel('Sebenarnya')\n",
        "plt.show()\n",
        "\n",
        "print(classification_report(y_true, y_pred, target_names=test_generator.class_indices.keys()))"
      ],
      "metadata": {
        "trusted": true,
        "execution": {
          "iopub.status.busy": "2025-04-23T06:28:19.817356Z",
          "iopub.execute_input": "2025-04-23T06:28:19.817978Z",
          "iopub.status.idle": "2025-04-23T06:28:26.256596Z",
          "shell.execute_reply.started": "2025-04-23T06:28:19.81796Z",
          "shell.execute_reply": "2025-04-23T06:28:26.256005Z"
        },
        "id": "FPJ-juNGkCE1"
      },
      "outputs": [],
      "execution_count": null
    },
    {
      "cell_type": "code",
      "source": [
        "# Plot akurasi dan loss\n",
        "fig, (ax1, ax2) = plt.subplots(1, 2, figsize=(12, 5))\n",
        "ax1.plot(history.history['accuracy'], label='Akurasi Training')\n",
        "ax1.plot(history.history['val_accuracy'], label='Akurasi Validasi')\n",
        "ax1.set_title('Akurasi Training dan Validasi')\n",
        "ax1.set_xlabel('Epoch')\n",
        "ax1.set_ylabel('Akurasi')\n",
        "ax1.legend()\n",
        "\n",
        "ax2.plot(history.history['loss'], label='Loss Training')\n",
        "ax2.plot(history.history['val_loss'], label='Loss Validasi')\n",
        "ax2.set_title('Loss Training dan Validasi')\n",
        "ax2.set_xlabel('Epoch')\n",
        "ax2.set_ylabel('Loss')\n",
        "ax2.legend()\n",
        "\n",
        "plt.tight_layout()\n",
        "plt.show()"
      ],
      "metadata": {
        "trusted": true,
        "execution": {
          "iopub.status.busy": "2025-04-23T06:28:42.542809Z",
          "iopub.execute_input": "2025-04-23T06:28:42.543494Z",
          "iopub.status.idle": "2025-04-23T06:28:42.869549Z",
          "shell.execute_reply.started": "2025-04-23T06:28:42.543471Z",
          "shell.execute_reply": "2025-04-23T06:28:42.868813Z"
        },
        "id": "ws41JI48kCE2"
      },
      "outputs": [],
      "execution_count": null
    },
    {
      "cell_type": "code",
      "source": [
        "# Simpan model\n",
        "model.save(\"animal_model.keras\")"
      ],
      "metadata": {
        "trusted": true,
        "execution": {
          "iopub.status.busy": "2025-04-23T06:29:05.34941Z",
          "iopub.execute_input": "2025-04-23T06:29:05.349873Z",
          "iopub.status.idle": "2025-04-23T06:29:07.027063Z",
          "shell.execute_reply.started": "2025-04-23T06:29:05.349851Z",
          "shell.execute_reply": "2025-04-23T06:29:07.026309Z"
        },
        "id": "0O4kVW4JkCE2"
      },
      "outputs": [],
      "execution_count": null
    },
    {
      "cell_type": "code",
      "source": [
        "# Load model dari file .keras\n",
        "model = tf.keras.models.load_model(\"animal_model.keras\")\n",
        "\n",
        "# Ambil satu batch dari test_generator\n",
        "for images, labels in test_generator:\n",
        "    if len(images) < 5:\n",
        "        random_indices = list(range(len(images)))\n",
        "    else:\n",
        "        random_indices = random.sample(range(len(images)), 5)\n",
        "    break  # Ambil satu batch saja\n",
        "\n",
        "# Buat figure untuk menampilkan 5 gambar secara horizontal\n",
        "plt.figure(figsize=(15, 5))\n",
        "\n",
        "for i, idx in enumerate(random_indices):\n",
        "    test_image = images[idx]\n",
        "    true_label = list(test_generator.class_indices.keys())[np.argmax(labels[idx])]\n",
        "\n",
        "    test_image_expanded = np.expand_dims(test_image, axis=0)\n",
        "    prediction = model.predict(test_image_expanded)\n",
        "    predicted_class = list(test_generator.class_indices.keys())[np.argmax(prediction[0])]\n",
        "\n",
        "    # Tampilkan gambar\n",
        "    plt.subplot(1, 5, i+1)\n",
        "    plt.imshow(test_image)\n",
        "    plt.title(f\"Asli: {true_label}\\nPred: {predicted_class}\")\n",
        "    plt.axis('off')\n",
        "\n",
        "plt.tight_layout()\n",
        "plt.show()"
      ],
      "metadata": {
        "trusted": true,
        "execution": {
          "iopub.status.busy": "2025-04-23T08:28:42.57101Z",
          "iopub.execute_input": "2025-04-23T08:28:42.571798Z",
          "iopub.status.idle": "2025-04-23T08:28:45.381944Z",
          "shell.execute_reply.started": "2025-04-23T08:28:42.571772Z",
          "shell.execute_reply": "2025-04-23T08:28:45.381289Z"
        },
        "id": "zsMFqdtIkCE2"
      },
      "outputs": [],
      "execution_count": null
    },
    {
      "cell_type": "code",
      "source": [
        "# Buat folder penyimpanan\n",
        "os.makedirs(\"submissions/tfjs_model\", exist_ok=True)\n",
        "os.makedirs(\"submissions/tflite\", exist_ok=True)\n",
        "os.makedirs(\"submissions/saved_model\", exist_ok=True)\n",
        "\n",
        "# 1. Simpan ke format TensorFlow SavedModel\n",
        "model.export(\"submissions/saved_model\")\n",
        "\n",
        "# 2. Simpan ke format TensorFlow.js\n",
        "tfjs.converters.save_keras_model(model, \"submissions/tfjs_model\")\n",
        "\n",
        "# 3. Simpan ke format TFLite\n",
        "# Konversi ke TFLite\n",
        "converter = tf.lite.TFLiteConverter.from_keras_model(model)\n",
        "tflite_model = converter.convert()\n",
        "\n",
        "# Simpan model TFLite\n",
        "with open(\"submissions/tflite/model.tflite\", \"wb\") as f:\n",
        "    f.write(tflite_model)\n",
        "\n",
        "# Simpan label (kelas)\n",
        "labels = list(test_generator.class_indices.keys())\n",
        "with open(\"submissions/tflite/label.txt\", \"w\") as f:\n",
        "    for label in labels:\n",
        "        f.write(label + \"\\n\")"
      ],
      "metadata": {
        "trusted": true,
        "execution": {
          "iopub.status.busy": "2025-04-23T08:47:32.539045Z",
          "iopub.execute_input": "2025-04-23T08:47:32.539315Z",
          "iopub.status.idle": "2025-04-23T08:47:43.915211Z",
          "shell.execute_reply.started": "2025-04-23T08:47:32.539299Z",
          "shell.execute_reply": "2025-04-23T08:47:43.914408Z"
        },
        "id": "lmaCCZZhkCE2"
      },
      "outputs": [],
      "execution_count": null
    },
    {
      "cell_type": "code",
      "source": [
        "import shutil\n",
        "\n",
        "# Buat zip dari folder submissions\n",
        "shutil.make_archive('/kaggle/working/submissions', 'zip', '/kaggle/working/submissions')"
      ],
      "metadata": {
        "trusted": true,
        "execution": {
          "iopub.status.busy": "2025-04-23T09:01:15.381545Z",
          "iopub.execute_input": "2025-04-23T09:01:15.381804Z",
          "iopub.status.idle": "2025-04-23T09:01:15.399267Z",
          "shell.execute_reply.started": "2025-04-23T09:01:15.381785Z",
          "shell.execute_reply": "2025-04-23T09:01:15.398378Z"
        },
        "id": "7O_dyb19kCE3"
      },
      "outputs": [],
      "execution_count": null
    },
    {
      "cell_type": "code",
      "source": [
        "from IPython.display import FileLink\n",
        "FileLink(r'/kaggle/working/submissions/saved_model/saved_model.pb')"
      ],
      "metadata": {
        "trusted": true,
        "execution": {
          "iopub.status.busy": "2025-04-23T09:17:41.241182Z",
          "iopub.execute_input": "2025-04-23T09:17:41.241435Z",
          "iopub.status.idle": "2025-04-23T09:17:41.246073Z",
          "shell.execute_reply.started": "2025-04-23T09:17:41.241418Z",
          "shell.execute_reply": "2025-04-23T09:17:41.245526Z"
        },
        "id": "eyn2609DkCE3"
      },
      "outputs": [],
      "execution_count": null
    }
  ]
}